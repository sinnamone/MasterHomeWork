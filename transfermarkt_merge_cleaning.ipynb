{
  "nbformat": 4,
  "nbformat_minor": 0,
  "metadata": {
    "colab": {
      "name": "top_club_export.ipynb",
      "provenance": [],
      "collapsed_sections": [],
      "authorship_tag": "ABX9TyPqzVo8D1WSapM/p0HMet1W",
      "include_colab_link": true
    },
    "kernelspec": {
      "name": "python3",
      "display_name": "Python 3"
    }
  },
  "cells": [
    {
      "cell_type": "markdown",
      "metadata": {
        "id": "view-in-github",
        "colab_type": "text"
      },
      "source": [
        "<a href=\"https://colab.research.google.com/github/sinnamone/MasterHomeWork/blob/master/transfermarkt_merge_cleaning.ipynb\" target=\"_parent\"><img src=\"https://colab.research.google.com/assets/colab-badge.svg\" alt=\"Open In Colab\"/></a>"
      ]
    },
    {
      "cell_type": "code",
      "metadata": {
        "id": "DqoXWblS-mXu",
        "colab_type": "code",
        "colab": {
          "base_uri": "https://localhost:8080/",
          "height": 122
        },
        "outputId": "2300e43a-a941-4857-b9a5-555b6a9bba71"
      },
      "source": [
        "from google.colab import files\n",
        "from google.colab import drive\n",
        "drive.mount('drive')"
      ],
      "execution_count": null,
      "outputs": [
        {
          "output_type": "stream",
          "text": [
            "Go to this URL in a browser: https://accounts.google.com/o/oauth2/auth?client_id=947318989803-6bn6qk8qdgf4n4g3pfee6491hc0brc4i.apps.googleusercontent.com&redirect_uri=urn%3aietf%3awg%3aoauth%3a2.0%3aoob&scope=email%20https%3a%2f%2fwww.googleapis.com%2fauth%2fdocs.test%20https%3a%2f%2fwww.googleapis.com%2fauth%2fdrive%20https%3a%2f%2fwww.googleapis.com%2fauth%2fdrive.photos.readonly%20https%3a%2f%2fwww.googleapis.com%2fauth%2fpeopleapi.readonly&response_type=code\n",
            "\n",
            "Enter your authorization code:\n",
            "··········\n",
            "Mounted at drive\n"
          ],
          "name": "stdout"
        }
      ]
    },
    {
      "cell_type": "code",
      "metadata": {
        "id": "muyQOShs--Ru",
        "colab_type": "code",
        "colab": {}
      },
      "source": [
        "import pandas as pd"
      ],
      "execution_count": null,
      "outputs": []
    },
    {
      "cell_type": "code",
      "metadata": {
        "id": "IPpbejwE-uIk",
        "colab_type": "code",
        "colab": {}
      },
      "source": [
        "liga = pd.read_csv(\"drive/My Drive/liga.csv\",sep=\"\\t\",header=0)"
      ],
      "execution_count": null,
      "outputs": []
    },
    {
      "cell_type": "code",
      "metadata": {
        "id": "Qqr4o_Am_UkP",
        "colab_type": "code",
        "colab": {}
      },
      "source": [
        "liga = pd.read_csv(\"drive/My Drive/liga.csv\",sep=\"\\t\",header=0)\n",
        "premier_league = pd.read_csv(\"drive/My Drive/premier_league.csv\",sep=\"\\t\",header=0)\n",
        "serie_a = pd.read_csv(\"drive/My Drive/serie_a.csv\",sep=\"\\t\",header=0)\n",
        "ligue1 = pd.read_csv(\"drive/My Drive/ligue1.csv\",sep=\"\\t\",header=0)\n",
        "bundesliga = pd.read_csv(\"drive/My Drive/bundesliga.csv\",sep=\"\\t\",header=0)"
      ],
      "execution_count": null,
      "outputs": []
    },
    {
      "cell_type": "code",
      "metadata": {
        "id": "ecrg8sB5_IgY",
        "colab_type": "code",
        "colab": {}
      },
      "source": [
        "top_club = pd.concat([liga,premier_league,serie_a,ligue1,bundesliga],ignore_index=True)"
      ],
      "execution_count": null,
      "outputs": []
    },
    {
      "cell_type": "code",
      "metadata": {
        "id": "6nEL0oI4_J3l",
        "colab_type": "code",
        "colab": {
          "base_uri": "https://localhost:8080/",
          "height": 289
        },
        "outputId": "48aea5fb-ead0-4b5e-b148-a8a49dfb88fc"
      },
      "source": [
        "top_club.head()"
      ],
      "execution_count": null,
      "outputs": [
        {
          "output_type": "execute_result",
          "data": {
            "text/html": [
              "<div>\n",
              "<style scoped>\n",
              "    .dataframe tbody tr th:only-of-type {\n",
              "        vertical-align: middle;\n",
              "    }\n",
              "\n",
              "    .dataframe tbody tr th {\n",
              "        vertical-align: top;\n",
              "    }\n",
              "\n",
              "    .dataframe thead th {\n",
              "        text-align: right;\n",
              "    }\n",
              "</style>\n",
              "<table border=\"1\" class=\"dataframe\">\n",
              "  <thead>\n",
              "    <tr style=\"text-align: right;\">\n",
              "      <th></th>\n",
              "      <th>Nome_squadra</th>\n",
              "      <th>Url_squadra</th>\n",
              "      <th>Nazione</th>\n",
              "      <th>Dimensione_rosa</th>\n",
              "      <th>Eta_media</th>\n",
              "      <th>Numero_stranieri</th>\n",
              "      <th>Valore_rosa</th>\n",
              "      <th>Valore_di_mercato_medio</th>\n",
              "    </tr>\n",
              "  </thead>\n",
              "  <tbody>\n",
              "    <tr>\n",
              "      <th>0</th>\n",
              "      <td>Real Madrid CF</td>\n",
              "      <td>https://www.transfermarkt.it/real-madrid/start...</td>\n",
              "      <td>Spagna</td>\n",
              "      <td>34</td>\n",
              "      <td>26,1</td>\n",
              "      <td>20</td>\n",
              "      <td>1,08 mld €</td>\n",
              "      <td>31,75 mln €</td>\n",
              "    </tr>\n",
              "    <tr>\n",
              "      <th>1</th>\n",
              "      <td>FC Barcellona</td>\n",
              "      <td>https://www.transfermarkt.it/fc-barcelona/star...</td>\n",
              "      <td>Spagna</td>\n",
              "      <td>32</td>\n",
              "      <td>25,9</td>\n",
              "      <td>20</td>\n",
              "      <td>992,20 mln €</td>\n",
              "      <td>31,01 mln €</td>\n",
              "    </tr>\n",
              "    <tr>\n",
              "      <th>2</th>\n",
              "      <td>Atlético de Madrid</td>\n",
              "      <td>https://www.transfermarkt.it/atletico-madrid/s...</td>\n",
              "      <td>Spagna</td>\n",
              "      <td>31</td>\n",
              "      <td>25,2</td>\n",
              "      <td>17</td>\n",
              "      <td>764,30 mln €</td>\n",
              "      <td>24,65 mln €</td>\n",
              "    </tr>\n",
              "    <tr>\n",
              "      <th>3</th>\n",
              "      <td>Valencia CF</td>\n",
              "      <td>https://www.transfermarkt.it/fc-valencia/start...</td>\n",
              "      <td>Spagna</td>\n",
              "      <td>26</td>\n",
              "      <td>25,8</td>\n",
              "      <td>14</td>\n",
              "      <td>328,38 mln €</td>\n",
              "      <td>12,63 mln €</td>\n",
              "    </tr>\n",
              "    <tr>\n",
              "      <th>4</th>\n",
              "      <td>Real Sociedad</td>\n",
              "      <td>https://www.transfermarkt.it/real-sociedad-san...</td>\n",
              "      <td>Spagna</td>\n",
              "      <td>29</td>\n",
              "      <td>25,9</td>\n",
              "      <td>7</td>\n",
              "      <td>327,10 mln €</td>\n",
              "      <td>11,28 mln €</td>\n",
              "    </tr>\n",
              "  </tbody>\n",
              "</table>\n",
              "</div>"
            ],
            "text/plain": [
              "         Nome_squadra  ... Valore_di_mercato_medio\n",
              "0      Real Madrid CF  ...             31,75 mln €\n",
              "1       FC Barcellona  ...             31,01 mln €\n",
              "2  Atlético de Madrid  ...             24,65 mln €\n",
              "3         Valencia CF  ...             12,63 mln €\n",
              "4       Real Sociedad  ...             11,28 mln €\n",
              "\n",
              "[5 rows x 8 columns]"
            ]
          },
          "metadata": {
            "tags": []
          },
          "execution_count": 6
        }
      ]
    },
    {
      "cell_type": "code",
      "metadata": {
        "id": "KAdTF8AA_48Y",
        "colab_type": "code",
        "colab": {}
      },
      "source": [
        "top_club['Valore_rosa'] = top_club['Valore_rosa'].map(lambda x: x.rstrip(' €'))"
      ],
      "execution_count": null,
      "outputs": []
    },
    {
      "cell_type": "code",
      "metadata": {
        "id": "7j-Rz8alBdcl",
        "colab_type": "code",
        "colab": {}
      },
      "source": [
        "top_club.to_csv(\"drive/My Drive/top_club.csv\",index=False,header=True,sep=\"\\t\")"
      ],
      "execution_count": null,
      "outputs": []
    }
  ]
}