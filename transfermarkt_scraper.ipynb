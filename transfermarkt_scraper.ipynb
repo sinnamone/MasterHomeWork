{
  "nbformat": 4,
  "nbformat_minor": 0,
  "metadata": {
    "colab": {
      "name": "transfermarkt_squadre.ipynb",
      "provenance": [],
      "collapsed_sections": [],
      "authorship_tag": "ABX9TyNVM7YwGqfBWwkXTuM8TTcV",
      "include_colab_link": true
    },
    "kernelspec": {
      "name": "python3",
      "display_name": "Python 3"
    }
  },
  "cells": [
    {
      "cell_type": "markdown",
      "metadata": {
        "id": "view-in-github",
        "colab_type": "text"
      },
      "source": [
        "<a href=\"https://colab.research.google.com/github/sinnamone/MasterHomeWork/blob/master/transfermarkt_scraper.ipynb\" target=\"_parent\"><img src=\"https://colab.research.google.com/assets/colab-badge.svg\" alt=\"Open In Colab\"/></a>"
      ]
    },
    {
      "cell_type": "code",
      "metadata": {
        "id": "Ee-yKXa9B7Xk",
        "colab_type": "code",
        "colab": {
          "base_uri": "https://localhost:8080/",
          "height": 1000
        },
        "outputId": "4b456af4-2ef7-4b47-d111-976c2cc1ffc5"
      },
      "source": [
        "!pip install selenium\n",
        "!apt-get update\n",
        "!apt install chromium-chromedriver\n",
        "!cp /usr/lib/chromium-browser/chromedriver /usr/bin"
      ],
      "execution_count": null,
      "outputs": [
        {
          "output_type": "stream",
          "text": [
            "Collecting selenium\n",
            "\u001b[?25l  Downloading https://files.pythonhosted.org/packages/80/d6/4294f0b4bce4de0abf13e17190289f9d0613b0a44e5dd6a7f5ca98459853/selenium-3.141.0-py2.py3-none-any.whl (904kB)\n",
            "\r\u001b[K     |▍                               | 10kB 17.8MB/s eta 0:00:01\r\u001b[K     |▊                               | 20kB 1.7MB/s eta 0:00:01\r\u001b[K     |█                               | 30kB 2.2MB/s eta 0:00:01\r\u001b[K     |█▌                              | 40kB 2.5MB/s eta 0:00:01\r\u001b[K     |█▉                              | 51kB 2.0MB/s eta 0:00:01\r\u001b[K     |██▏                             | 61kB 2.2MB/s eta 0:00:01\r\u001b[K     |██▌                             | 71kB 2.5MB/s eta 0:00:01\r\u001b[K     |███                             | 81kB 2.7MB/s eta 0:00:01\r\u001b[K     |███▎                            | 92kB 2.9MB/s eta 0:00:01\r\u001b[K     |███▋                            | 102kB 2.7MB/s eta 0:00:01\r\u001b[K     |████                            | 112kB 2.7MB/s eta 0:00:01\r\u001b[K     |████▍                           | 122kB 2.7MB/s eta 0:00:01\r\u001b[K     |████▊                           | 133kB 2.7MB/s eta 0:00:01\r\u001b[K     |█████                           | 143kB 2.7MB/s eta 0:00:01\r\u001b[K     |█████▍                          | 153kB 2.7MB/s eta 0:00:01\r\u001b[K     |█████▉                          | 163kB 2.7MB/s eta 0:00:01\r\u001b[K     |██████▏                         | 174kB 2.7MB/s eta 0:00:01\r\u001b[K     |██████▌                         | 184kB 2.7MB/s eta 0:00:01\r\u001b[K     |██████▉                         | 194kB 2.7MB/s eta 0:00:01\r\u001b[K     |███████▎                        | 204kB 2.7MB/s eta 0:00:01\r\u001b[K     |███████▋                        | 215kB 2.7MB/s eta 0:00:01\r\u001b[K     |████████                        | 225kB 2.7MB/s eta 0:00:01\r\u001b[K     |████████▎                       | 235kB 2.7MB/s eta 0:00:01\r\u001b[K     |████████▊                       | 245kB 2.7MB/s eta 0:00:01\r\u001b[K     |█████████                       | 256kB 2.7MB/s eta 0:00:01\r\u001b[K     |█████████▍                      | 266kB 2.7MB/s eta 0:00:01\r\u001b[K     |█████████▉                      | 276kB 2.7MB/s eta 0:00:01\r\u001b[K     |██████████▏                     | 286kB 2.7MB/s eta 0:00:01\r\u001b[K     |██████████▌                     | 296kB 2.7MB/s eta 0:00:01\r\u001b[K     |██████████▉                     | 307kB 2.7MB/s eta 0:00:01\r\u001b[K     |███████████▎                    | 317kB 2.7MB/s eta 0:00:01\r\u001b[K     |███████████▋                    | 327kB 2.7MB/s eta 0:00:01\r\u001b[K     |████████████                    | 337kB 2.7MB/s eta 0:00:01\r\u001b[K     |████████████▎                   | 348kB 2.7MB/s eta 0:00:01\r\u001b[K     |████████████▊                   | 358kB 2.7MB/s eta 0:00:01\r\u001b[K     |█████████████                   | 368kB 2.7MB/s eta 0:00:01\r\u001b[K     |█████████████▍                  | 378kB 2.7MB/s eta 0:00:01\r\u001b[K     |█████████████▊                  | 389kB 2.7MB/s eta 0:00:01\r\u001b[K     |██████████████▏                 | 399kB 2.7MB/s eta 0:00:01\r\u001b[K     |██████████████▌                 | 409kB 2.7MB/s eta 0:00:01\r\u001b[K     |██████████████▉                 | 419kB 2.7MB/s eta 0:00:01\r\u001b[K     |███████████████▏                | 430kB 2.7MB/s eta 0:00:01\r\u001b[K     |███████████████▋                | 440kB 2.7MB/s eta 0:00:01\r\u001b[K     |████████████████                | 450kB 2.7MB/s eta 0:00:01\r\u001b[K     |████████████████▎               | 460kB 2.7MB/s eta 0:00:01\r\u001b[K     |████████████████▋               | 471kB 2.7MB/s eta 0:00:01\r\u001b[K     |█████████████████               | 481kB 2.7MB/s eta 0:00:01\r\u001b[K     |█████████████████▍              | 491kB 2.7MB/s eta 0:00:01\r\u001b[K     |█████████████████▊              | 501kB 2.7MB/s eta 0:00:01\r\u001b[K     |██████████████████▏             | 512kB 2.7MB/s eta 0:00:01\r\u001b[K     |██████████████████▌             | 522kB 2.7MB/s eta 0:00:01\r\u001b[K     |██████████████████▉             | 532kB 2.7MB/s eta 0:00:01\r\u001b[K     |███████████████████▏            | 542kB 2.7MB/s eta 0:00:01\r\u001b[K     |███████████████████▋            | 552kB 2.7MB/s eta 0:00:01\r\u001b[K     |████████████████████            | 563kB 2.7MB/s eta 0:00:01\r\u001b[K     |████████████████████▎           | 573kB 2.7MB/s eta 0:00:01\r\u001b[K     |████████████████████▋           | 583kB 2.7MB/s eta 0:00:01\r\u001b[K     |█████████████████████           | 593kB 2.7MB/s eta 0:00:01\r\u001b[K     |█████████████████████▍          | 604kB 2.7MB/s eta 0:00:01\r\u001b[K     |█████████████████████▊          | 614kB 2.7MB/s eta 0:00:01\r\u001b[K     |██████████████████████          | 624kB 2.7MB/s eta 0:00:01\r\u001b[K     |██████████████████████▌         | 634kB 2.7MB/s eta 0:00:01\r\u001b[K     |██████████████████████▉         | 645kB 2.7MB/s eta 0:00:01\r\u001b[K     |███████████████████████▏        | 655kB 2.7MB/s eta 0:00:01\r\u001b[K     |███████████████████████▌        | 665kB 2.7MB/s eta 0:00:01\r\u001b[K     |████████████████████████        | 675kB 2.7MB/s eta 0:00:01\r\u001b[K     |████████████████████████▎       | 686kB 2.7MB/s eta 0:00:01\r\u001b[K     |████████████████████████▋       | 696kB 2.7MB/s eta 0:00:01\r\u001b[K     |█████████████████████████       | 706kB 2.7MB/s eta 0:00:01\r\u001b[K     |█████████████████████████▍      | 716kB 2.7MB/s eta 0:00:01\r\u001b[K     |█████████████████████████▊      | 727kB 2.7MB/s eta 0:00:01\r\u001b[K     |██████████████████████████      | 737kB 2.7MB/s eta 0:00:01\r\u001b[K     |██████████████████████████▍     | 747kB 2.7MB/s eta 0:00:01\r\u001b[K     |██████████████████████████▉     | 757kB 2.7MB/s eta 0:00:01\r\u001b[K     |███████████████████████████▏    | 768kB 2.7MB/s eta 0:00:01\r\u001b[K     |███████████████████████████▌    | 778kB 2.7MB/s eta 0:00:01\r\u001b[K     |████████████████████████████    | 788kB 2.7MB/s eta 0:00:01\r\u001b[K     |████████████████████████████▎   | 798kB 2.7MB/s eta 0:00:01\r\u001b[K     |████████████████████████████▋   | 808kB 2.7MB/s eta 0:00:01\r\u001b[K     |█████████████████████████████   | 819kB 2.7MB/s eta 0:00:01\r\u001b[K     |█████████████████████████████▍  | 829kB 2.7MB/s eta 0:00:01\r\u001b[K     |█████████████████████████████▊  | 839kB 2.7MB/s eta 0:00:01\r\u001b[K     |██████████████████████████████  | 849kB 2.7MB/s eta 0:00:01\r\u001b[K     |██████████████████████████████▍ | 860kB 2.7MB/s eta 0:00:01\r\u001b[K     |██████████████████████████████▉ | 870kB 2.7MB/s eta 0:00:01\r\u001b[K     |███████████████████████████████▏| 880kB 2.7MB/s eta 0:00:01\r\u001b[K     |███████████████████████████████▌| 890kB 2.7MB/s eta 0:00:01\r\u001b[K     |███████████████████████████████▉| 901kB 2.7MB/s eta 0:00:01\r\u001b[K     |████████████████████████████████| 911kB 2.7MB/s \n",
            "\u001b[?25hRequirement already satisfied: urllib3 in /usr/local/lib/python3.6/dist-packages (from selenium) (1.24.3)\n",
            "Installing collected packages: selenium\n",
            "Successfully installed selenium-3.141.0\n",
            "Get:1 https://cloud.r-project.org/bin/linux/ubuntu bionic-cran35/ InRelease [3,626 B]\n",
            "Hit:2 http://archive.ubuntu.com/ubuntu bionic InRelease\n",
            "Get:3 http://ppa.launchpad.net/graphics-drivers/ppa/ubuntu bionic InRelease [21.3 kB]\n",
            "Get:4 http://security.ubuntu.com/ubuntu bionic-security InRelease [88.7 kB]\n",
            "Get:5 http://archive.ubuntu.com/ubuntu bionic-updates InRelease [88.7 kB]\n",
            "Ign:6 https://developer.download.nvidia.com/compute/cuda/repos/ubuntu1804/x86_64  InRelease\n",
            "Ign:7 https://developer.download.nvidia.com/compute/machine-learning/repos/ubuntu1804/x86_64  InRelease\n",
            "Hit:8 https://developer.download.nvidia.com/compute/cuda/repos/ubuntu1804/x86_64  Release\n",
            "Hit:9 https://developer.download.nvidia.com/compute/machine-learning/repos/ubuntu1804/x86_64  Release\n",
            "Get:10 http://ppa.launchpad.net/marutter/c2d4u3.5/ubuntu bionic InRelease [15.4 kB]\n",
            "Get:11 https://cloud.r-project.org/bin/linux/ubuntu bionic-cran35/ Packages [95.3 kB]\n",
            "Get:12 http://archive.ubuntu.com/ubuntu bionic-backports InRelease [74.6 kB]\n",
            "Get:13 http://ppa.launchpad.net/graphics-drivers/ppa/ubuntu bionic/main amd64 Packages [45.7 kB]\n",
            "Get:14 http://security.ubuntu.com/ubuntu bionic-security/universe amd64 Packages [890 kB]\n",
            "Get:17 http://security.ubuntu.com/ubuntu bionic-security/main amd64 Packages [1,044 kB]\n",
            "Get:18 http://ppa.launchpad.net/marutter/c2d4u3.5/ubuntu bionic/main Sources [1,857 kB]\n",
            "Get:19 http://archive.ubuntu.com/ubuntu bionic-updates/universe amd64 Packages [1,418 kB]\n",
            "Get:20 http://archive.ubuntu.com/ubuntu bionic-updates/main amd64 Packages [1,341 kB]\n",
            "Get:21 http://ppa.launchpad.net/marutter/c2d4u3.5/ubuntu bionic/main amd64 Packages [896 kB]\n",
            "Fetched 7,880 kB in 3s (2,318 kB/s)\n",
            "Reading package lists... Done\n",
            "Reading package lists... Done\n",
            "Building dependency tree       \n",
            "Reading state information... Done\n",
            "The following package was automatically installed and is no longer required:\n",
            "  libnvidia-common-440\n",
            "Use 'apt autoremove' to remove it.\n",
            "The following additional packages will be installed:\n",
            "  chromium-browser chromium-browser-l10n chromium-codecs-ffmpeg-extra\n",
            "Suggested packages:\n",
            "  webaccounts-chromium-extension unity-chromium-extension adobe-flashplugin\n",
            "The following NEW packages will be installed:\n",
            "  chromium-browser chromium-browser-l10n chromium-chromedriver\n",
            "  chromium-codecs-ffmpeg-extra\n",
            "0 upgraded, 4 newly installed, 0 to remove and 59 not upgraded.\n",
            "Need to get 76.2 MB of archives.\n",
            "After this operation, 255 MB of additional disk space will be used.\n",
            "Get:1 http://archive.ubuntu.com/ubuntu bionic-updates/universe amd64 chromium-codecs-ffmpeg-extra amd64 84.0.4147.105-0ubuntu0.18.04.1 [1,118 kB]\n",
            "Get:2 http://archive.ubuntu.com/ubuntu bionic-updates/universe amd64 chromium-browser amd64 84.0.4147.105-0ubuntu0.18.04.1 [67.4 MB]\n",
            "Get:3 http://archive.ubuntu.com/ubuntu bionic-updates/universe amd64 chromium-browser-l10n all 84.0.4147.105-0ubuntu0.18.04.1 [3,379 kB]\n",
            "Get:4 http://archive.ubuntu.com/ubuntu bionic-updates/universe amd64 chromium-chromedriver amd64 84.0.4147.105-0ubuntu0.18.04.1 [4,354 kB]\n",
            "Fetched 76.2 MB in 3s (23.9 MB/s)\n",
            "Selecting previously unselected package chromium-codecs-ffmpeg-extra.\n",
            "(Reading database ... 144556 files and directories currently installed.)\n",
            "Preparing to unpack .../chromium-codecs-ffmpeg-extra_84.0.4147.105-0ubuntu0.18.04.1_amd64.deb ...\n",
            "Unpacking chromium-codecs-ffmpeg-extra (84.0.4147.105-0ubuntu0.18.04.1) ...\n",
            "Selecting previously unselected package chromium-browser.\n",
            "Preparing to unpack .../chromium-browser_84.0.4147.105-0ubuntu0.18.04.1_amd64.deb ...\n",
            "Unpacking chromium-browser (84.0.4147.105-0ubuntu0.18.04.1) ...\n",
            "Selecting previously unselected package chromium-browser-l10n.\n",
            "Preparing to unpack .../chromium-browser-l10n_84.0.4147.105-0ubuntu0.18.04.1_all.deb ...\n",
            "Unpacking chromium-browser-l10n (84.0.4147.105-0ubuntu0.18.04.1) ...\n",
            "Selecting previously unselected package chromium-chromedriver.\n",
            "Preparing to unpack .../chromium-chromedriver_84.0.4147.105-0ubuntu0.18.04.1_amd64.deb ...\n",
            "Unpacking chromium-chromedriver (84.0.4147.105-0ubuntu0.18.04.1) ...\n",
            "Setting up chromium-codecs-ffmpeg-extra (84.0.4147.105-0ubuntu0.18.04.1) ...\n",
            "Setting up chromium-browser (84.0.4147.105-0ubuntu0.18.04.1) ...\n",
            "update-alternatives: using /usr/bin/chromium-browser to provide /usr/bin/x-www-browser (x-www-browser) in auto mode\n",
            "update-alternatives: using /usr/bin/chromium-browser to provide /usr/bin/gnome-www-browser (gnome-www-browser) in auto mode\n",
            "Setting up chromium-chromedriver (84.0.4147.105-0ubuntu0.18.04.1) ...\n",
            "Setting up chromium-browser-l10n (84.0.4147.105-0ubuntu0.18.04.1) ...\n",
            "Processing triggers for hicolor-icon-theme (0.17-2) ...\n",
            "Processing triggers for mime-support (3.60ubuntu1) ...\n",
            "Processing triggers for man-db (2.8.3-2ubuntu0.1) ...\n",
            "cp: '/usr/lib/chromium-browser/chromedriver' and '/usr/bin/chromedriver' are the same file\n"
          ],
          "name": "stdout"
        }
      ]
    },
    {
      "cell_type": "code",
      "metadata": {
        "id": "YsgJpDNFCSQe",
        "colab_type": "code",
        "colab": {}
      },
      "source": [
        "import sys\n",
        "sys.path.insert(0,'/usr/lib/chromium-browser/chromedriver')\n",
        "from selenium import webdriver\n",
        "from tqdm import tqdm_notebook as tqdm\n",
        "import pandas\n",
        "import json\n",
        "import pprint"
      ],
      "execution_count": null,
      "outputs": []
    },
    {
      "cell_type": "code",
      "metadata": {
        "id": "oVngG5r7B_KZ",
        "colab_type": "code",
        "colab": {}
      },
      "source": [
        "chrome_options = webdriver.ChromeOptions()\n",
        "chrome_options.add_argument('--headless')\n",
        "chrome_options.add_argument('--no-sandbox')\n",
        "chrome_options.add_argument('--disable-dev-shm-usage')\n",
        "wd = webdriver.Chrome('chromedriver',options=chrome_options)\n",
        "wd.set_window_size(1900,1200)\n",
        "wd.get(\"https://www.transfermarkt.it/juventus-turin/startseite/verein/506/saison_id/2020\")"
      ],
      "execution_count": null,
      "outputs": []
    },
    {
      "cell_type": "code",
      "metadata": {
        "id": "Cl-i4ejRCL29",
        "colab_type": "code",
        "colab": {}
      },
      "source": [
        "chrome_options = webdriver.ChromeOptions()\n",
        "chrome_options.add_argument('--headless')\n",
        "chrome_options.add_argument('--no-sandbox')\n",
        "chrome_options.add_argument('--disable-dev-shm-usage')\n",
        "wd = webdriver.Chrome('chromedriver',options=chrome_options)\n",
        "wd.set_window_size(1900,1200)\n",
        "wd.get(\"https://www.transfermarkt.it/serie-a/startseite/wettbewerb/IT1\")"
      ],
      "execution_count": null,
      "outputs": []
    },
    {
      "cell_type": "code",
      "metadata": {
        "id": "FvvND-1ACc34",
        "colab_type": "code",
        "colab": {
          "base_uri": "https://localhost:8080/",
          "height": 280
        },
        "outputId": "ee8d6092-fe24-41bc-b8f3-908d36090439"
      },
      "source": [
        "wd.save_screenshot('screenshot.png')\n",
        "\n",
        "%pylab inline\n",
        "import matplotlib.pyplot as plt\n",
        "import matplotlib.image as mpimg\n",
        "img=mpimg.imread('/content/screenshot.png')\n",
        "imgplot = plt.imshow(img)\n",
        "plt.show()"
      ],
      "execution_count": null,
      "outputs": [
        {
          "output_type": "stream",
          "text": [
            "Populating the interactive namespace from numpy and matplotlib\n"
          ],
          "name": "stdout"
        },
        {
          "output_type": "display_data",
          "data": {
            "image/png": "[encoded data removed]",
            "text/plain": [
              "<Figure size 432x288 with 1 Axes>"
            ]
          },
          "metadata": {
            "tags": [],
            "needs_background": "light"
          }
        }
      ]
    },
    {
      "cell_type": "code",
      "metadata": {
        "id": "GFXwvE2AGvWd",
        "colab_type": "code",
        "colab": {
          "base_uri": "https://localhost:8080/",
          "height": 164
        },
        "outputId": "8686061b-bcff-4455-b7cf-244d1777306e"
      },
      "source": [
        "button = wd.find_element_by_css_selector('.kartei-number-2 > span:nth-child(1)')"
      ],
      "execution_count": null,
      "outputs": [
        {
          "output_type": "error",
          "ename": "NameError",
          "evalue": "ignored",
          "traceback": [
            "\u001b[0;31m---------------------------------------------------------------------------\u001b[0m",
            "\u001b[0;31mNameError\u001b[0m                                 Traceback (most recent call last)",
            "\u001b[0;32m<ipython-input-1-fe2ec493fc9d>\u001b[0m in \u001b[0;36m<module>\u001b[0;34m()\u001b[0m\n\u001b[0;32m----> 1\u001b[0;31m \u001b[0mbutton\u001b[0m \u001b[0;34m=\u001b[0m \u001b[0mwd\u001b[0m\u001b[0;34m.\u001b[0m\u001b[0mfind_element_by_css_selector\u001b[0m\u001b[0;34m(\u001b[0m\u001b[0;34m'.kartei-number-2 > span:nth-child(1)'\u001b[0m\u001b[0;34m)\u001b[0m\u001b[0;34m\u001b[0m\u001b[0;34m\u001b[0m\u001b[0m\n\u001b[0m",
            "\u001b[0;31mNameError\u001b[0m: name 'wd' is not defined"
          ]
        }
      ]
    },
    {
      "cell_type": "code",
      "metadata": {
        "id": "ojYiw0TmEdvh",
        "colab_type": "code",
        "colab": {}
      },
      "source": [
        "button.click()"
      ],
      "execution_count": null,
      "outputs": []
    },
    {
      "cell_type": "code",
      "metadata": {
        "id": "rtzwP3lhLugA",
        "colab_type": "code",
        "colab": {}
      },
      "source": [
        "calciatore = wd.find_elements_by_css_selector('td.posrela')"
      ],
      "execution_count": null,
      "outputs": []
    },
    {
      "cell_type": "code",
      "metadata": {
        "id": "EcpQpEU4MPNV",
        "colab_type": "code",
        "colab": {
          "base_uri": "https://localhost:8080/",
          "height": 34
        },
        "outputId": "971e1788-52a7-4f8a-93e8-24ae7065a7df"
      },
      "source": [
        "print(len(calciatore))"
      ],
      "execution_count": null,
      "outputs": [
        {
          "output_type": "stream",
          "text": [
            "23\n"
          ],
          "name": "stdout"
        }
      ]
    },
    {
      "cell_type": "code",
      "metadata": {
        "id": "F3i7LR8xMf3H",
        "colab_type": "code",
        "colab": {}
      },
      "source": [
        "tr.even:nth-child(2) > td:nth-child(2)\n",
        "tr.even:nth-child(4) > td:nth-child(2)\n",
        "tr.odd:nth-child(1) > td:nth-child(2)"
      ],
      "execution_count": null,
      "outputs": []
    },
    {
      "cell_type": "code",
      "metadata": {
        "id": "sSOAH794IZqE",
        "colab_type": "code",
        "colab": {}
      },
      "source": [
        "tabella_completa = wd.find_element_by_css_selector(\"#yw1 > table:nth-child(2) > tbody:nth-child(3)\")\n",
        "numero_squadre = len(tabella_completa.text.split(\"\\n\"))\n",
        "info_serie_a = []\n",
        "for _ in range(numero_squadre):\n",
        "  info_serie_a.append({'Nome_squadra':wd.find_element_by_css_selector(f\"#yw1 > table:nth-child(2) > tbody:nth-child(3) > tr:nth-child({_+1}) > td:nth-child(2)\").text,\n",
        "                       'Url_squadra':wd.find_element_by_css_selector(f\"#yw1 > table:nth-child(2) > tbody:nth-child(3) > tr:nth-child({_+1}) > td:nth-child(2) > a:nth-child(1)\").get_attribute(\"href\"),\n",
        "                       'Nazione':'Italia',\n",
        "                       'Dimensione_rosa':wd.find_element_by_css_selector(f\"#yw1 > table:nth-child(2) > tbody:nth-child(3) > tr:nth-child({_+1}) > td:nth-child(4)\").text,\n",
        "                       'Eta_media':wd.find_element_by_css_selector(f\"#yw1 > table:nth-child(2) > tbody:nth-child(3) > tr:nth-child({_+1}) > td:nth-child(5)\").text,\n",
        "                       'Numero_stranieri':wd.find_element_by_css_selector(f\"#yw1 > table:nth-child(2) > tbody:nth-child(3) > tr:nth-child({_+1}) > td:nth-child(6)\").text,\n",
        "                       'Valore_rosa':wd.find_element_by_css_selector(f\"#yw1 > table:nth-child(2) > tbody:nth-child(3) > tr:nth-child({_+1}) > td:nth-child(7)\").text,\n",
        "                       'Valore_di_mercato_medio':wd.find_element_by_css_selector(f\"#yw1 > table:nth-child(2) > tbody:nth-child(3) > tr:nth-child({_+1}) > td:nth-child(8)\").text\n",
        "                       })"
      ],
      "execution_count": null,
      "outputs": []
    },
    {
      "cell_type": "code",
      "metadata": {
        "id": "vq2LzFXCEsVz",
        "colab_type": "code",
        "colab": {}
      },
      "source": [
        "chrome_options = webdriver.ChromeOptions()\n",
        "chrome_options.add_argument('--headless')\n",
        "chrome_options.add_argument('--no-sandbox')\n",
        "chrome_options.add_argument('--disable-dev-shm-usage')\n",
        "wd = webdriver.Chrome('chromedriver',options=chrome_options)\n",
        "wd.set_window_size(1900,1200)\n",
        "wd.get(\"https://www.transfermarkt.it/primera-division/startseite/wettbewerb/ES1\")"
      ],
      "execution_count": null,
      "outputs": []
    },
    {
      "cell_type": "code",
      "metadata": {
        "id": "maR42EzzW5dl",
        "colab_type": "code",
        "colab": {}
      },
      "source": [
        "tabella_completa = wd.find_element_by_css_selector(\"#yw1 > table:nth-child(2) > tbody:nth-child(3)\")\n",
        "numero_squadre = len(tabella_completa.text.split(\"\\n\"))\n",
        "info_liga = []\n",
        "for _ in range(numero_squadre):\n",
        "  info_liga.append({'Nome_squadra':wd.find_element_by_css_selector(f\"#yw1 > table:nth-child(2) > tbody:nth-child(3) > tr:nth-child({_+1}) > td:nth-child(2)\").text,\n",
        "                       'Url_squadra':wd.find_element_by_css_selector(f\"#yw1 > table:nth-child(2) > tbody:nth-child(3) > tr:nth-child({_+1}) > td:nth-child(2) > a:nth-child(1)\").get_attribute(\"href\"),\n",
        "                       'Nazione':'Spagna',\n",
        "                       'Dimensione_rosa':wd.find_element_by_css_selector(f\"#yw1 > table:nth-child(2) > tbody:nth-child(3) > tr:nth-child({_+1}) > td:nth-child(4)\").text,\n",
        "                       'Eta_media':wd.find_element_by_css_selector(f\"#yw1 > table:nth-child(2) > tbody:nth-child(3) > tr:nth-child({_+1}) > td:nth-child(5)\").text,\n",
        "                       'Numero_stranieri':wd.find_element_by_css_selector(f\"#yw1 > table:nth-child(2) > tbody:nth-child(3) > tr:nth-child({_+1}) > td:nth-child(6)\").text,\n",
        "                       'Valore_rosa':wd.find_element_by_css_selector(f\"#yw1 > table:nth-child(2) > tbody:nth-child(3) > tr:nth-child({_+1}) > td:nth-child(7)\").text,\n",
        "                       'Valore_di_mercato_medio':wd.find_element_by_css_selector(f\"#yw1 > table:nth-child(2) > tbody:nth-child(3) > tr:nth-child({_+1}) > td:nth-child(8)\").text\n",
        "                       })"
      ],
      "execution_count": null,
      "outputs": []
    },
    {
      "cell_type": "code",
      "metadata": {
        "id": "NeOC2e_uXAkN",
        "colab_type": "code",
        "colab": {}
      },
      "source": [
        "chrome_options = webdriver.ChromeOptions()\n",
        "chrome_options.add_argument('--headless')\n",
        "chrome_options.add_argument('--no-sandbox')\n",
        "chrome_options.add_argument('--disable-dev-shm-usage')\n",
        "wd = webdriver.Chrome('chromedriver',options=chrome_options)\n",
        "wd.set_window_size(1900,1200)\n",
        "wd.get(\"https://www.transfermarkt.it/premier-league/startseite/wettbewerb/GB1\")"
      ],
      "execution_count": null,
      "outputs": []
    },
    {
      "cell_type": "code",
      "metadata": {
        "id": "QrHXkQ-MXG-F",
        "colab_type": "code",
        "colab": {}
      },
      "source": [
        "tabella_completa = wd.find_element_by_css_selector(\"#yw1 > table:nth-child(2) > tbody:nth-child(3)\")\n",
        "numero_squadre = len(tabella_completa.text.split(\"\\n\"))\n",
        "info_premier = []\n",
        "for _ in range(numero_squadre):\n",
        "  info_premier.append({'Nome_squadra':wd.find_element_by_css_selector(f\"#yw1 > table:nth-child(2) > tbody:nth-child(3) > tr:nth-child({_+1}) > td:nth-child(2)\").text,\n",
        "                       'Url_squadra':wd.find_element_by_css_selector(f\"#yw1 > table:nth-child(2) > tbody:nth-child(3) > tr:nth-child({_+1}) > td:nth-child(2) > a:nth-child(1)\").get_attribute(\"href\"),\n",
        "                       'Nazione':'Inghilterra',\n",
        "                       'Dimensione_rosa':wd.find_element_by_css_selector(f\"#yw1 > table:nth-child(2) > tbody:nth-child(3) > tr:nth-child({_+1}) > td:nth-child(4)\").text,\n",
        "                       'Eta_media':wd.find_element_by_css_selector(f\"#yw1 > table:nth-child(2) > tbody:nth-child(3) > tr:nth-child({_+1}) > td:nth-child(5)\").text,\n",
        "                       'Numero_stranieri':wd.find_element_by_css_selector(f\"#yw1 > table:nth-child(2) > tbody:nth-child(3) > tr:nth-child({_+1}) > td:nth-child(6)\").text,\n",
        "                       'Valore_rosa':wd.find_element_by_css_selector(f\"#yw1 > table:nth-child(2) > tbody:nth-child(3) > tr:nth-child({_+1}) > td:nth-child(7)\").text,\n",
        "                       'Valore_di_mercato_medio':wd.find_element_by_css_selector(f\"#yw1 > table:nth-child(2) > tbody:nth-child(3) > tr:nth-child({_+1}) > td:nth-child(8)\").text\n",
        "                       })"
      ],
      "execution_count": null,
      "outputs": []
    },
    {
      "cell_type": "code",
      "metadata": {
        "id": "chroLtmIYkat",
        "colab_type": "code",
        "colab": {}
      },
      "source": [
        "chrome_options = webdriver.ChromeOptions()\n",
        "chrome_options.add_argument('--headless')\n",
        "chrome_options.add_argument('--no-sandbox')\n",
        "chrome_options.add_argument('--disable-dev-shm-usage')\n",
        "wd = webdriver.Chrome('chromedriver',options=chrome_options)\n",
        "wd.set_window_size(1900,1200)\n",
        "wd.get(\"https://www.transfermarkt.it/1-bundesliga/startseite/wettbewerb/L1\")"
      ],
      "execution_count": null,
      "outputs": []
    },
    {
      "cell_type": "code",
      "metadata": {
        "id": "CtTgWc7DYxtS",
        "colab_type": "code",
        "colab": {}
      },
      "source": [
        "tabella_completa = wd.find_element_by_css_selector(\"#yw1 > table:nth-child(2) > tbody:nth-child(3)\")\n",
        "numero_squadre = len(tabella_completa.text.split(\"\\n\"))\n",
        "info_bundesliga = []\n",
        "for _ in range(numero_squadre):\n",
        "  info_bundesliga.append({'Nome_squadra':wd.find_element_by_css_selector(f\"#yw1 > table:nth-child(2) > tbody:nth-child(3) > tr:nth-child({_+1}) > td:nth-child(2)\").text,\n",
        "                       'Url_squadra':wd.find_element_by_css_selector(f\"#yw1 > table:nth-child(2) > tbody:nth-child(3) > tr:nth-child({_+1}) > td:nth-child(2) > a:nth-child(1)\").get_attribute(\"href\"),\n",
        "                       'Nazione':'Germania',\n",
        "                       'Dimensione_rosa':wd.find_element_by_css_selector(f\"#yw1 > table:nth-child(2) > tbody:nth-child(3) > tr:nth-child({_+1}) > td:nth-child(4)\").text,\n",
        "                       'Eta_media':wd.find_element_by_css_selector(f\"#yw1 > table:nth-child(2) > tbody:nth-child(3) > tr:nth-child({_+1}) > td:nth-child(5)\").text,\n",
        "                       'Numero_stranieri':wd.find_element_by_css_selector(f\"#yw1 > table:nth-child(2) > tbody:nth-child(3) > tr:nth-child({_+1}) > td:nth-child(6)\").text,\n",
        "                       'Valore_rosa':wd.find_element_by_css_selector(f\"#yw1 > table:nth-child(2) > tbody:nth-child(3) > tr:nth-child({_+1}) > td:nth-child(7)\").text,\n",
        "                       'Valore_di_mercato_medio':wd.find_element_by_css_selector(f\"#yw1 > table:nth-child(2) > tbody:nth-child(3) > tr:nth-child({_+1}) > td:nth-child(8)\").text\n",
        "                       })"
      ],
      "execution_count": null,
      "outputs": []
    },
    {
      "cell_type": "code",
      "metadata": {
        "id": "SRz9Sk-QY3Kg",
        "colab_type": "code",
        "colab": {}
      },
      "source": [
        "chrome_options = webdriver.ChromeOptions()\n",
        "chrome_options.add_argument('--headless')\n",
        "chrome_options.add_argument('--no-sandbox')\n",
        "chrome_options.add_argument('--disable-dev-shm-usage')\n",
        "wd = webdriver.Chrome('chromedriver',options=chrome_options)\n",
        "wd.set_window_size(1900,1200)\n",
        "wd.get(\"https://www.transfermarkt.it/ligue-1/startseite/wettbewerb/FR1\")"
      ],
      "execution_count": null,
      "outputs": []
    },
    {
      "cell_type": "code",
      "metadata": {
        "id": "H-k1qxLqZAF8",
        "colab_type": "code",
        "colab": {}
      },
      "source": [
        "tabella_completa = wd.find_element_by_css_selector(\"#yw1 > table:nth-child(2) > tbody:nth-child(3)\")\n",
        "numero_squadre = len(tabella_completa.text.split(\"\\n\"))\n",
        "info_liga1 = []\n",
        "for _ in range(numero_squadre):\n",
        "  info_liga1.append({'Nome_squadra':wd.find_element_by_css_selector(f\"#yw1 > table:nth-child(2) > tbody:nth-child(3) > tr:nth-child({_+1}) > td:nth-child(2)\").text,\n",
        "                       'Url_squadra':wd.find_element_by_css_selector(f\"#yw1 > table:nth-child(2) > tbody:nth-child(3) > tr:nth-child({_+1}) > td:nth-child(2) > a:nth-child(1)\").get_attribute(\"href\"),\n",
        "                       'Nazione':'Francia',\n",
        "                       'Dimensione_rosa':wd.find_element_by_css_selector(f\"#yw1 > table:nth-child(2) > tbody:nth-child(3) > tr:nth-child({_+1}) > td:nth-child(4)\").text,\n",
        "                       'Eta_media':wd.find_element_by_css_selector(f\"#yw1 > table:nth-child(2) > tbody:nth-child(3) > tr:nth-child({_+1}) > td:nth-child(5)\").text,\n",
        "                       'Numero_stranieri':wd.find_element_by_css_selector(f\"#yw1 > table:nth-child(2) > tbody:nth-child(3) > tr:nth-child({_+1}) > td:nth-child(6)\").text,\n",
        "                       'Valore_rosa':wd.find_element_by_css_selector(f\"#yw1 > table:nth-child(2) > tbody:nth-child(3) > tr:nth-child({_+1}) > td:nth-child(7)\").text,\n",
        "                       'Valore_di_mercato_medio':wd.find_element_by_css_selector(f\"#yw1 > table:nth-child(2) > tbody:nth-child(3) > tr:nth-child({_+1}) > td:nth-child(8)\").text\n",
        "                       })"
      ],
      "execution_count": null,
      "outputs": []
    },
    {
      "cell_type": "code",
      "metadata": {
        "id": "w4h17hqSZFVk",
        "colab_type": "code",
        "colab": {}
      },
      "source": [
        "import pandas as pd"
      ],
      "execution_count": null,
      "outputs": []
    },
    {
      "cell_type": "code",
      "metadata": {
        "id": "QmyM_DcqZqhk",
        "colab_type": "code",
        "colab": {}
      },
      "source": [
        "ligue1 = pd.DataFrame(info_liga1) "
      ],
      "execution_count": null,
      "outputs": []
    },
    {
      "cell_type": "code",
      "metadata": {
        "id": "UKyJ1dzbaCui",
        "colab_type": "code",
        "colab": {}
      },
      "source": [
        "serie_a = pd.DataFrame(info_serie_a) "
      ],
      "execution_count": null,
      "outputs": []
    },
    {
      "cell_type": "code",
      "metadata": {
        "id": "FGSmM_8YaU-x",
        "colab_type": "code",
        "colab": {}
      },
      "source": [
        "liga = pd.DataFrame(info_liga)"
      ],
      "execution_count": null,
      "outputs": []
    },
    {
      "cell_type": "code",
      "metadata": {
        "id": "nOOhb-wvabWz",
        "colab_type": "code",
        "colab": {}
      },
      "source": [
        "premier_league = pd.DataFrame(info_premier)"
      ],
      "execution_count": null,
      "outputs": []
    },
    {
      "cell_type": "code",
      "metadata": {
        "id": "oeSQSnOiapFB",
        "colab_type": "code",
        "colab": {}
      },
      "source": [
        "bundesliga = pd.DataFrame(info_bundesliga)"
      ],
      "execution_count": null,
      "outputs": []
    },
    {
      "cell_type": "code",
      "metadata": {
        "id": "kKZSGu0nayrv",
        "colab_type": "code",
        "colab": {
          "base_uri": "https://localhost:8080/",
          "height": 289
        },
        "outputId": "431c2972-7bbe-4703-b2c7-593145c59745"
      },
      "source": [
        "serie_a.head()"
      ],
      "execution_count": null,
      "outputs": [
        {
          "output_type": "execute_result",
          "data": {
            "text/html": [
              "<div>\n",
              "<style scoped>\n",
              "    .dataframe tbody tr th:only-of-type {\n",
              "        vertical-align: middle;\n",
              "    }\n",
              "\n",
              "    .dataframe tbody tr th {\n",
              "        vertical-align: top;\n",
              "    }\n",
              "\n",
              "    .dataframe thead th {\n",
              "        text-align: right;\n",
              "    }\n",
              "</style>\n",
              "<table border=\"1\" class=\"dataframe\">\n",
              "  <thead>\n",
              "    <tr style=\"text-align: right;\">\n",
              "      <th></th>\n",
              "      <th>Nome_squadra</th>\n",
              "      <th>Url_squadra</th>\n",
              "      <th>Nazione</th>\n",
              "      <th>Dimensione_rosa</th>\n",
              "      <th>Eta_media</th>\n",
              "      <th>Numero_stranieri</th>\n",
              "      <th>Valore_rosa</th>\n",
              "      <th>Valore_di_mercato_medio</th>\n",
              "    </tr>\n",
              "  </thead>\n",
              "  <tbody>\n",
              "    <tr>\n",
              "      <th>0</th>\n",
              "      <td>Inter</td>\n",
              "      <td>https://www.transfermarkt.it/inter-mailand/sta...</td>\n",
              "      <td>Italia</td>\n",
              "      <td>31</td>\n",
              "      <td>27,9</td>\n",
              "      <td>19</td>\n",
              "      <td>616,80 mln €</td>\n",
              "      <td>19,90 mln €</td>\n",
              "    </tr>\n",
              "    <tr>\n",
              "      <th>1</th>\n",
              "      <td>Juventus FC</td>\n",
              "      <td>https://www.transfermarkt.it/juventus-turin/st...</td>\n",
              "      <td>Italia</td>\n",
              "      <td>23</td>\n",
              "      <td>29,6</td>\n",
              "      <td>16</td>\n",
              "      <td>592,90 mln €</td>\n",
              "      <td>25,78 mln €</td>\n",
              "    </tr>\n",
              "    <tr>\n",
              "      <th>2</th>\n",
              "      <td>SSC Napoli</td>\n",
              "      <td>https://www.transfermarkt.it/ssc-neapel/starts...</td>\n",
              "      <td>Italia</td>\n",
              "      <td>27</td>\n",
              "      <td>28,2</td>\n",
              "      <td>22</td>\n",
              "      <td>551,50 mln €</td>\n",
              "      <td>20,43 mln €</td>\n",
              "    </tr>\n",
              "    <tr>\n",
              "      <th>3</th>\n",
              "      <td>AC Milan</td>\n",
              "      <td>https://www.transfermarkt.it/ac-mailand/starts...</td>\n",
              "      <td>Italia</td>\n",
              "      <td>27</td>\n",
              "      <td>27,0</td>\n",
              "      <td>20</td>\n",
              "      <td>391,20 mln €</td>\n",
              "      <td>14,49 mln €</td>\n",
              "    </tr>\n",
              "    <tr>\n",
              "      <th>4</th>\n",
              "      <td>AS Roma</td>\n",
              "      <td>https://www.transfermarkt.it/as-rom/startseite...</td>\n",
              "      <td>Italia</td>\n",
              "      <td>31</td>\n",
              "      <td>27,3</td>\n",
              "      <td>22</td>\n",
              "      <td>375,85 mln €</td>\n",
              "      <td>12,12 mln €</td>\n",
              "    </tr>\n",
              "  </tbody>\n",
              "</table>\n",
              "</div>"
            ],
            "text/plain": [
              "  Nome_squadra  ... Valore_di_mercato_medio\n",
              "0        Inter  ...             19,90 mln €\n",
              "1  Juventus FC  ...             25,78 mln €\n",
              "2   SSC Napoli  ...             20,43 mln €\n",
              "3     AC Milan  ...             14,49 mln €\n",
              "4      AS Roma  ...             12,12 mln €\n",
              "\n",
              "[5 rows x 8 columns]"
            ]
          },
          "metadata": {
            "tags": []
          },
          "execution_count": 33
        }
      ]
    },
    {
      "cell_type": "code",
      "metadata": {
        "id": "rw7IP23qa0y_",
        "colab_type": "code",
        "colab": {
          "base_uri": "https://localhost:8080/",
          "height": 122
        },
        "outputId": "a3b5f88a-96ec-4d64-ba47-d2aff1fe446d"
      },
      "source": [
        "from google.colab import files\n",
        "from google.colab import drive\n",
        "drive.mount('drive')"
      ],
      "execution_count": null,
      "outputs": [
        {
          "output_type": "stream",
          "text": [
            "Go to this URL in a browser: https://accounts.google.com/o/oauth2/auth?client_id=947318989803-6bn6qk8qdgf4n4g3pfee6491hc0brc4i.apps.googleusercontent.com&redirect_uri=urn%3aietf%3awg%3aoauth%3a2.0%3aoob&scope=email%20https%3a%2f%2fwww.googleapis.com%2fauth%2fdocs.test%20https%3a%2f%2fwww.googleapis.com%2fauth%2fdrive%20https%3a%2f%2fwww.googleapis.com%2fauth%2fdrive.photos.readonly%20https%3a%2f%2fwww.googleapis.com%2fauth%2fpeopleapi.readonly&response_type=code\n",
            "\n",
            "Enter your authorization code:\n",
            "··········\n",
            "Mounted at drive\n"
          ],
          "name": "stdout"
        }
      ]
    },
    {
      "cell_type": "code",
      "metadata": {
        "id": "VQDiWqPLxMZ1",
        "colab_type": "code",
        "colab": {}
      },
      "source": [
        "liga.to_csv(\"drive/My Drive/liga.csv\",index=False,header=True,sep=\"\\t\")"
      ],
      "execution_count": null,
      "outputs": []
    },
    {
      "cell_type": "code",
      "metadata": {
        "id": "GpyhYa_cxcBd",
        "colab_type": "code",
        "colab": {}
      },
      "source": [
        "premier_league.to_csv(\"drive/My Drive/premier_league.csv\",index=False,header=True,sep=\"\\t\")"
      ],
      "execution_count": null,
      "outputs": []
    },
    {
      "cell_type": "code",
      "metadata": {
        "id": "zyJCjz21xiOI",
        "colab_type": "code",
        "colab": {}
      },
      "source": [
        "serie_a.to_csv(\"drive/My Drive/serie_a.csv\",index=False,header=True,sep=\"\\t\")"
      ],
      "execution_count": null,
      "outputs": []
    },
    {
      "cell_type": "code",
      "metadata": {
        "id": "W8NrJjXexnqK",
        "colab_type": "code",
        "colab": {}
      },
      "source": [
        "ligue1.to_csv(\"drive/My Drive/ligue1.csv\",index=False,header=True,sep=\"\\t\")"
      ],
      "execution_count": null,
      "outputs": []
    },
    {
      "cell_type": "code",
      "metadata": {
        "id": "0G6E3UJJxsyS",
        "colab_type": "code",
        "colab": {}
      },
      "source": [
        "bundesliga.to_csv(\"drive/My Drive/bundesliga.csv\",index=False,header=True,sep=\"\\t\")"
      ],
      "execution_count": null,
      "outputs": []
    },
    {
      "cell_type": "code",
      "metadata": {
        "id": "TkR_isVS9-67",
        "colab_type": "code",
        "colab": {}
      },
      "source": [
        ""
      ],
      "execution_count": null,
      "outputs": []
    }
  ]
}